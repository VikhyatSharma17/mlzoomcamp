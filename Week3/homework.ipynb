{
 "cells": [
  {
   "cell_type": "code",
   "execution_count": 1,
   "id": "00ef3f51-326d-47d3-9a7a-341c8c7f8ede",
   "metadata": {},
   "outputs": [],
   "source": [
    "import pandas as pd\n",
    "import numpy as np\n",
    "import matplotlib.pyplot as plt\n",
    "import seaborn as sn\n",
    "\n",
    "from sklearn.model_selection import train_test_split"
   ]
  },
  {
   "cell_type": "code",
   "execution_count": 2,
   "id": "865014c6-9f58-4d7f-b594-3b4651a0d3a4",
   "metadata": {},
   "outputs": [
    {
     "data": {
      "text/html": [
       "<div>\n",
       "<style scoped>\n",
       "    .dataframe tbody tr th:only-of-type {\n",
       "        vertical-align: middle;\n",
       "    }\n",
       "\n",
       "    .dataframe tbody tr th {\n",
       "        vertical-align: top;\n",
       "    }\n",
       "\n",
       "    .dataframe thead th {\n",
       "        text-align: right;\n",
       "    }\n",
       "</style>\n",
       "<table border=\"1\" class=\"dataframe\">\n",
       "  <thead>\n",
       "    <tr style=\"text-align: right;\">\n",
       "      <th></th>\n",
       "      <th>longitude</th>\n",
       "      <th>latitude</th>\n",
       "      <th>housing_median_age</th>\n",
       "      <th>total_rooms</th>\n",
       "      <th>total_bedrooms</th>\n",
       "      <th>population</th>\n",
       "      <th>households</th>\n",
       "      <th>median_income</th>\n",
       "      <th>median_house_value</th>\n",
       "      <th>ocean_proximity</th>\n",
       "    </tr>\n",
       "  </thead>\n",
       "  <tbody>\n",
       "    <tr>\n",
       "      <th>0</th>\n",
       "      <td>-122.23</td>\n",
       "      <td>37.88</td>\n",
       "      <td>41.0</td>\n",
       "      <td>880.0</td>\n",
       "      <td>129.0</td>\n",
       "      <td>322.0</td>\n",
       "      <td>126.0</td>\n",
       "      <td>8.3252</td>\n",
       "      <td>452600.0</td>\n",
       "      <td>NEAR BAY</td>\n",
       "    </tr>\n",
       "    <tr>\n",
       "      <th>1</th>\n",
       "      <td>-122.22</td>\n",
       "      <td>37.86</td>\n",
       "      <td>21.0</td>\n",
       "      <td>7099.0</td>\n",
       "      <td>1106.0</td>\n",
       "      <td>2401.0</td>\n",
       "      <td>1138.0</td>\n",
       "      <td>8.3014</td>\n",
       "      <td>358500.0</td>\n",
       "      <td>NEAR BAY</td>\n",
       "    </tr>\n",
       "    <tr>\n",
       "      <th>2</th>\n",
       "      <td>-122.24</td>\n",
       "      <td>37.85</td>\n",
       "      <td>52.0</td>\n",
       "      <td>1467.0</td>\n",
       "      <td>190.0</td>\n",
       "      <td>496.0</td>\n",
       "      <td>177.0</td>\n",
       "      <td>7.2574</td>\n",
       "      <td>352100.0</td>\n",
       "      <td>NEAR BAY</td>\n",
       "    </tr>\n",
       "    <tr>\n",
       "      <th>3</th>\n",
       "      <td>-122.25</td>\n",
       "      <td>37.85</td>\n",
       "      <td>52.0</td>\n",
       "      <td>1274.0</td>\n",
       "      <td>235.0</td>\n",
       "      <td>558.0</td>\n",
       "      <td>219.0</td>\n",
       "      <td>5.6431</td>\n",
       "      <td>341300.0</td>\n",
       "      <td>NEAR BAY</td>\n",
       "    </tr>\n",
       "    <tr>\n",
       "      <th>4</th>\n",
       "      <td>-122.25</td>\n",
       "      <td>37.85</td>\n",
       "      <td>52.0</td>\n",
       "      <td>1627.0</td>\n",
       "      <td>280.0</td>\n",
       "      <td>565.0</td>\n",
       "      <td>259.0</td>\n",
       "      <td>3.8462</td>\n",
       "      <td>342200.0</td>\n",
       "      <td>NEAR BAY</td>\n",
       "    </tr>\n",
       "  </tbody>\n",
       "</table>\n",
       "</div>"
      ],
      "text/plain": [
       "   longitude  latitude  housing_median_age  total_rooms  total_bedrooms  \\\n",
       "0    -122.23     37.88                41.0        880.0           129.0   \n",
       "1    -122.22     37.86                21.0       7099.0          1106.0   \n",
       "2    -122.24     37.85                52.0       1467.0           190.0   \n",
       "3    -122.25     37.85                52.0       1274.0           235.0   \n",
       "4    -122.25     37.85                52.0       1627.0           280.0   \n",
       "\n",
       "   population  households  median_income  median_house_value ocean_proximity  \n",
       "0       322.0       126.0         8.3252            452600.0        NEAR BAY  \n",
       "1      2401.0      1138.0         8.3014            358500.0        NEAR BAY  \n",
       "2       496.0       177.0         7.2574            352100.0        NEAR BAY  \n",
       "3       558.0       219.0         5.6431            341300.0        NEAR BAY  \n",
       "4       565.0       259.0         3.8462            342200.0        NEAR BAY  "
      ]
     },
     "execution_count": 2,
     "metadata": {},
     "output_type": "execute_result"
    }
   ],
   "source": [
    "csv_data = \"./helper files/housing.csv\"\n",
    "housing_df = pd.read_csv(csv_data)\n",
    "\n",
    "housing_df.head()"
   ]
  },
  {
   "cell_type": "markdown",
   "id": "678508f7-c446-4ee0-acf2-7932c7853924",
   "metadata": {},
   "source": [
    "# Data Preparation"
   ]
  },
  {
   "cell_type": "code",
   "execution_count": 3,
   "id": "e7685404-4c0b-4122-9618-fa1cd2a5d8f9",
   "metadata": {},
   "outputs": [
    {
     "data": {
      "text/plain": [
       "latitude                0\n",
       "longitude               0\n",
       "housing_median_age      0\n",
       "total_rooms             0\n",
       "total_bedrooms        207\n",
       "population              0\n",
       "households              0\n",
       "median_income           0\n",
       "median_house_value      0\n",
       "ocean_proximity         0\n",
       "dtype: int64"
      ]
     },
     "execution_count": 3,
     "metadata": {},
     "output_type": "execute_result"
    }
   ],
   "source": [
    "features_to_use = ['latitude', 'longitude', 'housing_median_age', 'total_rooms', 'total_bedrooms', \n",
    "                  'population', 'households', 'median_income', 'median_house_value', 'ocean_proximity'\n",
    "                  ]\n",
    "housing_df = housing_df[features_to_use]\n",
    "\n",
    "housing_df.isnull().sum()"
   ]
  },
  {
   "cell_type": "code",
   "execution_count": 4,
   "id": "b2ba6eb4-bf67-4359-b102-5d5d84604749",
   "metadata": {},
   "outputs": [
    {
     "data": {
      "text/plain": [
       "latitude              0\n",
       "longitude             0\n",
       "housing_median_age    0\n",
       "total_rooms           0\n",
       "total_bedrooms        0\n",
       "population            0\n",
       "households            0\n",
       "median_income         0\n",
       "median_house_value    0\n",
       "ocean_proximity       0\n",
       "dtype: int64"
      ]
     },
     "execution_count": 4,
     "metadata": {},
     "output_type": "execute_result"
    }
   ],
   "source": [
    "housing_df = housing_df.fillna(0)\n",
    "housing_df.isnull().sum()"
   ]
  },
  {
   "cell_type": "code",
   "execution_count": 5,
   "id": "e2586ef5-229f-47a0-827a-0bc4faade7f0",
   "metadata": {},
   "outputs": [],
   "source": [
    "housing_df['rooms_per_household'] = housing_df['total_rooms'] / housing_df['households']\n",
    "housing_df['bedrooms_per_room'] = housing_df['total_bedrooms'] / housing_df['total_rooms']\n",
    "housing_df['population_per_household'] = housing_df['population'] / housing_df['households']"
   ]
  },
  {
   "cell_type": "code",
   "execution_count": 6,
   "id": "fd200219-dd6b-4f0c-9af5-1bb0d7b01099",
   "metadata": {},
   "outputs": [
    {
     "data": {
      "text/plain": [
       "Index(['latitude', 'longitude', 'housing_median_age', 'total_rooms',\n",
       "       'total_bedrooms', 'population', 'households', 'median_income',\n",
       "       'median_house_value', 'ocean_proximity', 'rooms_per_household',\n",
       "       'bedrooms_per_room', 'population_per_household'],\n",
       "      dtype='object')"
      ]
     },
     "execution_count": 6,
     "metadata": {},
     "output_type": "execute_result"
    }
   ],
   "source": [
    "housing_df.columns"
   ]
  },
  {
   "cell_type": "markdown",
   "id": "82a028ba-c0f9-4116-93ef-2d3ecd2a2994",
   "metadata": {
    "tags": []
   },
   "source": [
    "# Question 1\n",
    "What is the most frequent observation (mode) for the column ocean_proximity?\n",
    "\n",
    "Options:\n",
    "- `NEAR BAY`\n",
    "- `<1H OCEAN`\n",
    "- `INLAND`\n",
    "- `NEAR OCEAN`"
   ]
  },
  {
   "cell_type": "code",
   "execution_count": 7,
   "id": "94057357-aa17-4f41-8000-5e65a0a7628d",
   "metadata": {},
   "outputs": [
    {
     "name": "stdout",
     "output_type": "stream",
     "text": [
      "The most frequent observation (mode) for the column: 'ocean_proximity' is ['<1H OCEAN']\n"
     ]
    }
   ],
   "source": [
    "ocean_proximity_mode = housing_df['ocean_proximity'].mode().values\n",
    "\n",
    "print(f\"The most frequent observation (mode) for the column: 'ocean_proximity' is {ocean_proximity_mode}\")"
   ]
  },
  {
   "cell_type": "markdown",
   "id": "23ae17fa-b15b-4c26-83ef-b55396ff2149",
   "metadata": {
    "tags": []
   },
   "source": [
    "# Question 2\n",
    "\n",
    "- Create the correlation matrix for the numerical features of your train dataset.\n",
    "    - In a correlation matrix, you compute the correlation coefficient between every pair of features in the dataset.\n",
    "- What are the two features that have the biggest correlation in this dataset?\n",
    "\n",
    "\n",
    "Options:\n",
    "- `total_bedrooms` and `households`\n",
    "- `total_bedrooms` and `total_rooms`\n",
    "- `population` and `households`\n",
    "- `population_per_household` and `total_rooms`"
   ]
  },
  {
   "cell_type": "code",
   "execution_count": 8,
   "id": "6529e850-352e-4603-8d07-0ebb02c8021b",
   "metadata": {},
   "outputs": [
    {
     "data": {
      "text/html": [
       "<div>\n",
       "<style scoped>\n",
       "    .dataframe tbody tr th:only-of-type {\n",
       "        vertical-align: middle;\n",
       "    }\n",
       "\n",
       "    .dataframe tbody tr th {\n",
       "        vertical-align: top;\n",
       "    }\n",
       "\n",
       "    .dataframe thead th {\n",
       "        text-align: right;\n",
       "    }\n",
       "</style>\n",
       "<table border=\"1\" class=\"dataframe\">\n",
       "  <thead>\n",
       "    <tr style=\"text-align: right;\">\n",
       "      <th></th>\n",
       "      <th>latitude</th>\n",
       "      <th>longitude</th>\n",
       "      <th>housing_median_age</th>\n",
       "      <th>total_rooms</th>\n",
       "      <th>total_bedrooms</th>\n",
       "      <th>population</th>\n",
       "      <th>households</th>\n",
       "      <th>median_income</th>\n",
       "      <th>median_house_value</th>\n",
       "      <th>rooms_per_household</th>\n",
       "      <th>bedrooms_per_room</th>\n",
       "      <th>population_per_household</th>\n",
       "    </tr>\n",
       "  </thead>\n",
       "  <tbody>\n",
       "    <tr>\n",
       "      <th>latitude</th>\n",
       "      <td>1.000000</td>\n",
       "      <td>-0.924664</td>\n",
       "      <td>0.011173</td>\n",
       "      <td>-0.036100</td>\n",
       "      <td>-0.065318</td>\n",
       "      <td>-0.108785</td>\n",
       "      <td>-0.071035</td>\n",
       "      <td>-0.079809</td>\n",
       "      <td>-0.144160</td>\n",
       "      <td>0.106389</td>\n",
       "      <td>-0.104112</td>\n",
       "      <td>0.002366</td>\n",
       "    </tr>\n",
       "    <tr>\n",
       "      <th>longitude</th>\n",
       "      <td>-0.924664</td>\n",
       "      <td>1.000000</td>\n",
       "      <td>-0.108197</td>\n",
       "      <td>0.044568</td>\n",
       "      <td>0.068082</td>\n",
       "      <td>0.099773</td>\n",
       "      <td>0.055310</td>\n",
       "      <td>-0.015176</td>\n",
       "      <td>-0.045967</td>\n",
       "      <td>-0.027540</td>\n",
       "      <td>0.084836</td>\n",
       "      <td>0.002476</td>\n",
       "    </tr>\n",
       "    <tr>\n",
       "      <th>housing_median_age</th>\n",
       "      <td>0.011173</td>\n",
       "      <td>-0.108197</td>\n",
       "      <td>1.000000</td>\n",
       "      <td>-0.361262</td>\n",
       "      <td>-0.317063</td>\n",
       "      <td>-0.296244</td>\n",
       "      <td>-0.302916</td>\n",
       "      <td>-0.119034</td>\n",
       "      <td>0.105623</td>\n",
       "      <td>-0.153277</td>\n",
       "      <td>0.125396</td>\n",
       "      <td>0.013191</td>\n",
       "    </tr>\n",
       "    <tr>\n",
       "      <th>total_rooms</th>\n",
       "      <td>-0.036100</td>\n",
       "      <td>0.044568</td>\n",
       "      <td>-0.361262</td>\n",
       "      <td>1.000000</td>\n",
       "      <td>0.920196</td>\n",
       "      <td>0.857126</td>\n",
       "      <td>0.918484</td>\n",
       "      <td>0.198050</td>\n",
       "      <td>0.134153</td>\n",
       "      <td>0.133798</td>\n",
       "      <td>-0.174583</td>\n",
       "      <td>-0.024581</td>\n",
       "    </tr>\n",
       "    <tr>\n",
       "      <th>total_bedrooms</th>\n",
       "      <td>-0.065318</td>\n",
       "      <td>0.068082</td>\n",
       "      <td>-0.317063</td>\n",
       "      <td>0.920196</td>\n",
       "      <td>1.000000</td>\n",
       "      <td>0.866266</td>\n",
       "      <td>0.966507</td>\n",
       "      <td>-0.007295</td>\n",
       "      <td>0.049148</td>\n",
       "      <td>0.002717</td>\n",
       "      <td>0.122205</td>\n",
       "      <td>-0.028019</td>\n",
       "    </tr>\n",
       "    <tr>\n",
       "      <th>population</th>\n",
       "      <td>-0.108785</td>\n",
       "      <td>0.099773</td>\n",
       "      <td>-0.296244</td>\n",
       "      <td>0.857126</td>\n",
       "      <td>0.866266</td>\n",
       "      <td>1.000000</td>\n",
       "      <td>0.907222</td>\n",
       "      <td>0.004834</td>\n",
       "      <td>-0.024650</td>\n",
       "      <td>-0.072213</td>\n",
       "      <td>0.031397</td>\n",
       "      <td>0.069863</td>\n",
       "    </tr>\n",
       "    <tr>\n",
       "      <th>households</th>\n",
       "      <td>-0.071035</td>\n",
       "      <td>0.055310</td>\n",
       "      <td>-0.302916</td>\n",
       "      <td>0.918484</td>\n",
       "      <td>0.966507</td>\n",
       "      <td>0.907222</td>\n",
       "      <td>1.000000</td>\n",
       "      <td>0.013033</td>\n",
       "      <td>0.065843</td>\n",
       "      <td>-0.080598</td>\n",
       "      <td>0.059818</td>\n",
       "      <td>-0.027309</td>\n",
       "    </tr>\n",
       "    <tr>\n",
       "      <th>median_income</th>\n",
       "      <td>-0.079809</td>\n",
       "      <td>-0.015176</td>\n",
       "      <td>-0.119034</td>\n",
       "      <td>0.198050</td>\n",
       "      <td>-0.007295</td>\n",
       "      <td>0.004834</td>\n",
       "      <td>0.013033</td>\n",
       "      <td>1.000000</td>\n",
       "      <td>0.688075</td>\n",
       "      <td>0.326895</td>\n",
       "      <td>-0.573836</td>\n",
       "      <td>0.018766</td>\n",
       "    </tr>\n",
       "    <tr>\n",
       "      <th>median_house_value</th>\n",
       "      <td>-0.144160</td>\n",
       "      <td>-0.045967</td>\n",
       "      <td>0.105623</td>\n",
       "      <td>0.134153</td>\n",
       "      <td>0.049148</td>\n",
       "      <td>-0.024650</td>\n",
       "      <td>0.065843</td>\n",
       "      <td>0.688075</td>\n",
       "      <td>1.000000</td>\n",
       "      <td>0.151948</td>\n",
       "      <td>-0.238759</td>\n",
       "      <td>-0.023737</td>\n",
       "    </tr>\n",
       "    <tr>\n",
       "      <th>rooms_per_household</th>\n",
       "      <td>0.106389</td>\n",
       "      <td>-0.027540</td>\n",
       "      <td>-0.153277</td>\n",
       "      <td>0.133798</td>\n",
       "      <td>0.002717</td>\n",
       "      <td>-0.072213</td>\n",
       "      <td>-0.080598</td>\n",
       "      <td>0.326895</td>\n",
       "      <td>0.151948</td>\n",
       "      <td>1.000000</td>\n",
       "      <td>-0.387465</td>\n",
       "      <td>-0.004852</td>\n",
       "    </tr>\n",
       "    <tr>\n",
       "      <th>bedrooms_per_room</th>\n",
       "      <td>-0.104112</td>\n",
       "      <td>0.084836</td>\n",
       "      <td>0.125396</td>\n",
       "      <td>-0.174583</td>\n",
       "      <td>0.122205</td>\n",
       "      <td>0.031397</td>\n",
       "      <td>0.059818</td>\n",
       "      <td>-0.573836</td>\n",
       "      <td>-0.238759</td>\n",
       "      <td>-0.387465</td>\n",
       "      <td>1.000000</td>\n",
       "      <td>0.003047</td>\n",
       "    </tr>\n",
       "    <tr>\n",
       "      <th>population_per_household</th>\n",
       "      <td>0.002366</td>\n",
       "      <td>0.002476</td>\n",
       "      <td>0.013191</td>\n",
       "      <td>-0.024581</td>\n",
       "      <td>-0.028019</td>\n",
       "      <td>0.069863</td>\n",
       "      <td>-0.027309</td>\n",
       "      <td>0.018766</td>\n",
       "      <td>-0.023737</td>\n",
       "      <td>-0.004852</td>\n",
       "      <td>0.003047</td>\n",
       "      <td>1.000000</td>\n",
       "    </tr>\n",
       "  </tbody>\n",
       "</table>\n",
       "</div>"
      ],
      "text/plain": [
       "                          latitude  longitude  housing_median_age  \\\n",
       "latitude                  1.000000  -0.924664            0.011173   \n",
       "longitude                -0.924664   1.000000           -0.108197   \n",
       "housing_median_age        0.011173  -0.108197            1.000000   \n",
       "total_rooms              -0.036100   0.044568           -0.361262   \n",
       "total_bedrooms           -0.065318   0.068082           -0.317063   \n",
       "population               -0.108785   0.099773           -0.296244   \n",
       "households               -0.071035   0.055310           -0.302916   \n",
       "median_income            -0.079809  -0.015176           -0.119034   \n",
       "median_house_value       -0.144160  -0.045967            0.105623   \n",
       "rooms_per_household       0.106389  -0.027540           -0.153277   \n",
       "bedrooms_per_room        -0.104112   0.084836            0.125396   \n",
       "population_per_household  0.002366   0.002476            0.013191   \n",
       "\n",
       "                          total_rooms  total_bedrooms  population  households  \\\n",
       "latitude                    -0.036100       -0.065318   -0.108785   -0.071035   \n",
       "longitude                    0.044568        0.068082    0.099773    0.055310   \n",
       "housing_median_age          -0.361262       -0.317063   -0.296244   -0.302916   \n",
       "total_rooms                  1.000000        0.920196    0.857126    0.918484   \n",
       "total_bedrooms               0.920196        1.000000    0.866266    0.966507   \n",
       "population                   0.857126        0.866266    1.000000    0.907222   \n",
       "households                   0.918484        0.966507    0.907222    1.000000   \n",
       "median_income                0.198050       -0.007295    0.004834    0.013033   \n",
       "median_house_value           0.134153        0.049148   -0.024650    0.065843   \n",
       "rooms_per_household          0.133798        0.002717   -0.072213   -0.080598   \n",
       "bedrooms_per_room           -0.174583        0.122205    0.031397    0.059818   \n",
       "population_per_household    -0.024581       -0.028019    0.069863   -0.027309   \n",
       "\n",
       "                          median_income  median_house_value  \\\n",
       "latitude                      -0.079809           -0.144160   \n",
       "longitude                     -0.015176           -0.045967   \n",
       "housing_median_age            -0.119034            0.105623   \n",
       "total_rooms                    0.198050            0.134153   \n",
       "total_bedrooms                -0.007295            0.049148   \n",
       "population                     0.004834           -0.024650   \n",
       "households                     0.013033            0.065843   \n",
       "median_income                  1.000000            0.688075   \n",
       "median_house_value             0.688075            1.000000   \n",
       "rooms_per_household            0.326895            0.151948   \n",
       "bedrooms_per_room             -0.573836           -0.238759   \n",
       "population_per_household       0.018766           -0.023737   \n",
       "\n",
       "                          rooms_per_household  bedrooms_per_room  \\\n",
       "latitude                             0.106389          -0.104112   \n",
       "longitude                           -0.027540           0.084836   \n",
       "housing_median_age                  -0.153277           0.125396   \n",
       "total_rooms                          0.133798          -0.174583   \n",
       "total_bedrooms                       0.002717           0.122205   \n",
       "population                          -0.072213           0.031397   \n",
       "households                          -0.080598           0.059818   \n",
       "median_income                        0.326895          -0.573836   \n",
       "median_house_value                   0.151948          -0.238759   \n",
       "rooms_per_household                  1.000000          -0.387465   \n",
       "bedrooms_per_room                   -0.387465           1.000000   \n",
       "population_per_household            -0.004852           0.003047   \n",
       "\n",
       "                          population_per_household  \n",
       "latitude                                  0.002366  \n",
       "longitude                                 0.002476  \n",
       "housing_median_age                        0.013191  \n",
       "total_rooms                              -0.024581  \n",
       "total_bedrooms                           -0.028019  \n",
       "population                                0.069863  \n",
       "households                               -0.027309  \n",
       "median_income                             0.018766  \n",
       "median_house_value                       -0.023737  \n",
       "rooms_per_household                      -0.004852  \n",
       "bedrooms_per_room                         0.003047  \n",
       "population_per_household                  1.000000  "
      ]
     },
     "execution_count": 8,
     "metadata": {},
     "output_type": "execute_result"
    }
   ],
   "source": [
    "corr_matrix = housing_df.corr()\n",
    "corr_matrix"
   ]
  },
  {
   "cell_type": "code",
   "execution_count": 9,
   "id": "10b9963d-bdec-4584-b94e-f2000de6d55e",
   "metadata": {},
   "outputs": [
    {
     "data": {
      "text/plain": [
       "<AxesSubplot:>"
      ]
     },
     "execution_count": 9,
     "metadata": {},
     "output_type": "execute_result"
    },
    {
     "data": {
      "image/png": "[encoded data removed]",
      "text/plain": [
       "<Figure size 640x480 with 2 Axes>"
      ]
     },
     "metadata": {},
     "output_type": "display_data"
    }
   ],
   "source": [
    "sn.heatmap(corr_matrix)"
   ]
  },
  {
   "cell_type": "code",
   "execution_count": 10,
   "id": "83ccbf0e-de0e-4b01-9116-554d2c1adc4d",
   "metadata": {},
   "outputs": [
    {
     "name": "stdout",
     "output_type": "stream",
     "text": [
      "0.966507240042043\n",
      "0.9201961721166215\n",
      "0.9072222660959659\n",
      "-0.02458065899398796\n"
     ]
    }
   ],
   "source": [
    "print(corr_matrix['total_bedrooms']['households'])\n",
    "print(corr_matrix['total_bedrooms']['total_rooms'])\n",
    "print(corr_matrix['population']['households'])\n",
    "print(corr_matrix['population_per_household']['total_rooms'])"
   ]
  },
  {
   "cell_type": "markdown",
   "id": "6ecf167a-324d-4117-a860-47b81fce0a72",
   "metadata": {},
   "source": [
    "# Make `median_house_value` binary\n",
    "\n",
    "- We need to turn the `median_house_value` variable from numeric into binary.\n",
    "- Let's create a variable `above_average` which is 1 if the `median_house_value` is above its mean value and 0 otherwise."
   ]
  },
  {
   "cell_type": "code",
   "execution_count": 11,
   "id": "e7773881-067f-4648-ad39-40f971690df1",
   "metadata": {},
   "outputs": [
    {
     "data": {
      "text/plain": [
       "Index(['latitude', 'longitude', 'housing_median_age', 'total_rooms',\n",
       "       'total_bedrooms', 'population', 'households', 'median_income',\n",
       "       'median_house_value', 'ocean_proximity', 'rooms_per_household',\n",
       "       'bedrooms_per_room', 'population_per_household', 'above_average'],\n",
       "      dtype='object')"
      ]
     },
     "execution_count": 11,
     "metadata": {},
     "output_type": "execute_result"
    }
   ],
   "source": [
    "mean_house_value = housing_df['median_house_value'].mean()\n",
    "housing_df['above_average'] = (housing_df['median_house_value'] > mean_house_value).astype(int)\n",
    "\n",
    "housing_df.columns"
   ]
  },
  {
   "cell_type": "markdown",
   "id": "db919cea-2a19-479b-a5f9-2f2307498941",
   "metadata": {
    "tags": []
   },
   "source": [
    "# Split the data\n",
    "\n",
    "- Split your data in train/val/test sets, with 60%/20%/20% distribution.\n",
    "- Use Scikit-Learn for that (the train_test_split function) and set the seed to 42.\n",
    "- Make sure that the target value (median_house_value) is not in your dataframe."
   ]
  },
  {
   "cell_type": "code",
   "execution_count": 32,
   "id": "974b97bc-b7cc-47ca-a6eb-4c5c26c3b806",
   "metadata": {},
   "outputs": [],
   "source": [
    "full_train_df, test_df = train_test_split(housing_df, test_size=0.2, random_state=42)\n",
    "train_df, val_df = train_test_split(full_train_df, test_size=0.25, random_state=42)\n",
    "\n",
    "train_df = train_df.reset_index(drop=True)\n",
    "val_df = val_df.reset_index(drop=True)\n",
    "test_df = test_df.reset_index(drop=True)"
   ]
  },
  {
   "cell_type": "code",
   "execution_count": 29,
   "id": "c7b6378a-a3d1-4879-9557-e49d15b38d87",
   "metadata": {},
   "outputs": [
    {
     "data": {
      "text/plain": [
       "Index(['latitude', 'longitude', 'housing_median_age', 'total_rooms',\n",
       "       'total_bedrooms', 'population', 'households', 'median_income',\n",
       "       'ocean_proximity', 'rooms_per_household', 'bedrooms_per_room',\n",
       "       'population_per_household', 'above_average'],\n",
       "      dtype='object')"
      ]
     },
     "execution_count": 29,
     "metadata": {},
     "output_type": "execute_result"
    }
   ],
   "source": [
    "train_df.columns"
   ]
  },
  {
   "cell_type": "code",
   "execution_count": 30,
   "id": "339b4929-fbd6-4719-ae16-000d0ab58cbf",
   "metadata": {},
   "outputs": [
    {
     "data": {
      "text/plain": [
       "Index(['latitude', 'longitude', 'housing_median_age', 'total_rooms',\n",
       "       'total_bedrooms', 'population', 'households', 'median_income',\n",
       "       'ocean_proximity', 'rooms_per_household', 'bedrooms_per_room',\n",
       "       'population_per_household', 'above_average'],\n",
       "      dtype='object')"
      ]
     },
     "execution_count": 30,
     "metadata": {},
     "output_type": "execute_result"
    }
   ],
   "source": [
    "val_df.columns"
   ]
  },
  {
   "cell_type": "code",
   "execution_count": 33,
   "id": "7eb39fc5-3247-4e00-8e12-3ad30be097e2",
   "metadata": {},
   "outputs": [],
   "source": [
    "y_train = train_df['above_average'].values\n",
    "y_val = val_df['above_average'].values\n",
    "y_test = test_df['above_average'].values\n",
    "\n",
    "del train_df['median_house_value']\n",
    "del val_df['median_house_value']\n",
    "del test_df['median_house_value']\n",
    "\n",
    "del train_df['above_average']\n",
    "del val_df['above_average']\n",
    "del test_df['above_average']"
   ]
  },
  {
   "cell_type": "markdown",
   "id": "f17d243f-d692-4fe4-95db-f7c8a9947a85",
   "metadata": {
    "tags": []
   },
   "source": [
    "# Question 3\n",
    "\n",
    "- Calculate the mutual information score between above_average and ocean_proximity . Use the training set only.\n",
    "- Round it to 2 decimals using round(score, 2)\n",
    "\n",
    "What is their mutual information score?\n",
    "\n",
    "Options:\n",
    "- 0.26\n",
    "- 0\n",
    "- 0.10\n",
    "- 0.16"
   ]
  },
  {
   "cell_type": "code",
   "execution_count": 35,
   "id": "36019824-0982-42d0-9cfe-2475a88b753f",
   "metadata": {},
   "outputs": [
    {
     "data": {
      "text/plain": [
       "0.1"
      ]
     },
     "execution_count": 35,
     "metadata": {},
     "output_type": "execute_result"
    }
   ],
   "source": [
    "from sklearn.metrics import mutual_info_score\n",
    "\n",
    "avg_ocean_mutual_score = mutual_info_score(y_train, train_df.ocean_proximity).round(2)\n",
    "avg_ocean_mutual_score"
   ]
  },
  {
   "cell_type": "markdown",
   "id": "7bb51b43-2991-439a-9d25-2d74f48c2b1b",
   "metadata": {},
   "source": [
    "# Question 4\n",
    "\n",
    "Now let's train a logistic regression\n",
    "> Remember that we have one categorical variable `ocean_proximity` in the data. Include it using one-hot encoding.\n",
    "\n",
    "- Fit the model on the training dataset.\n",
    "- To make sure the results are reproducible across different versions of Scikit-Learn, fit the model with these parameters:\n",
    "    - model = LogisticRegression(solver=\"liblinear\", C=1.0, max_iter=1000, random_state=42)\n",
    "- Calculate the accuracy on the validation dataset and round it to 2 decimal digits."
   ]
  },
  {
   "cell_type": "markdown",
   "id": "19afc967-9ded-4789-9002-0e94c1437d9e",
   "metadata": {},
   "source": [
    "## One-Hot Encoding"
   ]
  },
  {
   "cell_type": "code",
   "execution_count": 15,
   "id": "b2e08b19-cd4c-4602-bdc8-0d24b15f7d2a",
   "metadata": {},
   "outputs": [],
   "source": [
    "from sklearn.feature_extraction import DictVectorizer\n",
    "\n",
    "dv = DictVectorizer(sparse=False)"
   ]
  },
  {
   "cell_type": "code",
   "execution_count": 64,
   "id": "09887a09-f45c-4604-801d-386c5905db2a",
   "metadata": {},
   "outputs": [],
   "source": [
    "dict_train = train_df.to_dict(orient='records')\n",
    "dv.fit(dict_train)\n",
    "X_train = dv.transform(dict_train)    # perform one hot encooding on the categorical data\n",
    "\n",
    "dict_val = val_df.to_dict(orient='records')\n",
    "X_val = dv.fit_transform(dict_val)    # combining the fit and trasform in one single method\n",
    "\n",
    "dict_test = test_df.to_dict(orient='records')\n",
    "X_test = dv.fit_transform(dict_test)"
   ]
  },
  {
   "cell_type": "markdown",
   "id": "aafe2a9f-52a2-460f-9345-8492f2bd5d74",
   "metadata": {},
   "source": [
    "## Logistic Regression Model"
   ]
  },
  {
   "cell_type": "code",
   "execution_count": 37,
   "id": "e111c4eb-9ab3-4b5a-84f0-dae638fe7ede",
   "metadata": {},
   "outputs": [
    {
     "data": {
      "text/html": [
       "<style>#sk-container-id-2 {color: black;background-color: white;}#sk-container-id-2 pre{padding: 0;}#sk-container-id-2 div.sk-toggleable {background-color: white;}#sk-container-id-2 label.sk-toggleable__label {cursor: pointer;display: block;width: 100%;margin-bottom: 0;padding: 0.3em;box-sizing: border-box;text-align: center;}#sk-container-id-2 label.sk-toggleable__label-arrow:before {content: \"▸\";float: left;margin-right: 0.25em;color: #696969;}#sk-container-id-2 label.sk-toggleable__label-arrow:hover:before {color: black;}#sk-container-id-2 div.sk-estimator:hover label.sk-toggleable__label-arrow:before {color: black;}#sk-container-id-2 div.sk-toggleable__content {max-height: 0;max-width: 0;overflow: hidden;text-align: left;background-color: #f0f8ff;}#sk-container-id-2 div.sk-toggleable__content pre {margin: 0.2em;color: black;border-radius: 0.25em;background-color: #f0f8ff;}#sk-container-id-2 input.sk-toggleable__control:checked~div.sk-toggleable__content {max-height: 200px;max-width: 100%;overflow: auto;}#sk-container-id-2 input.sk-toggleable__control:checked~label.sk-toggleable__label-arrow:before {content: \"▾\";}#sk-container-id-2 div.sk-estimator input.sk-toggleable__control:checked~label.sk-toggleable__label {background-color: #d4ebff;}#sk-container-id-2 div.sk-label input.sk-toggleable__control:checked~label.sk-toggleable__label {background-color: #d4ebff;}#sk-container-id-2 input.sk-hidden--visually {border: 0;clip: rect(1px 1px 1px 1px);clip: rect(1px, 1px, 1px, 1px);height: 1px;margin: -1px;overflow: hidden;padding: 0;position: absolute;width: 1px;}#sk-container-id-2 div.sk-estimator {font-family: monospace;background-color: #f0f8ff;border: 1px dotted black;border-radius: 0.25em;box-sizing: border-box;margin-bottom: 0.5em;}#sk-container-id-2 div.sk-estimator:hover {background-color: #d4ebff;}#sk-container-id-2 div.sk-parallel-item::after {content: \"\";width: 100%;border-bottom: 1px solid gray;flex-grow: 1;}#sk-container-id-2 div.sk-label:hover label.sk-toggleable__label {background-color: #d4ebff;}#sk-container-id-2 div.sk-serial::before {content: \"\";position: absolute;border-left: 1px solid gray;box-sizing: border-box;top: 0;bottom: 0;left: 50%;z-index: 0;}#sk-container-id-2 div.sk-serial {display: flex;flex-direction: column;align-items: center;background-color: white;padding-right: 0.2em;padding-left: 0.2em;position: relative;}#sk-container-id-2 div.sk-item {position: relative;z-index: 1;}#sk-container-id-2 div.sk-parallel {display: flex;align-items: stretch;justify-content: center;background-color: white;position: relative;}#sk-container-id-2 div.sk-item::before, #sk-container-id-2 div.sk-parallel-item::before {content: \"\";position: absolute;border-left: 1px solid gray;box-sizing: border-box;top: 0;bottom: 0;left: 50%;z-index: -1;}#sk-container-id-2 div.sk-parallel-item {display: flex;flex-direction: column;z-index: 1;position: relative;background-color: white;}#sk-container-id-2 div.sk-parallel-item:first-child::after {align-self: flex-end;width: 50%;}#sk-container-id-2 div.sk-parallel-item:last-child::after {align-self: flex-start;width: 50%;}#sk-container-id-2 div.sk-parallel-item:only-child::after {width: 0;}#sk-container-id-2 div.sk-dashed-wrapped {border: 1px dashed gray;margin: 0 0.4em 0.5em 0.4em;box-sizing: border-box;padding-bottom: 0.4em;background-color: white;}#sk-container-id-2 div.sk-label label {font-family: monospace;font-weight: bold;display: inline-block;line-height: 1.2em;}#sk-container-id-2 div.sk-label-container {text-align: center;}#sk-container-id-2 div.sk-container {/* jupyter's `normalize.less` sets `[hidden] { display: none; }` but bootstrap.min.css set `[hidden] { display: none !important; }` so we also need the `!important` here to be able to override the default hidden behavior on the sphinx rendered scikit-learn.org. See: https://github.com/scikit-learn/scikit-learn/issues/21755 */display: inline-block !important;position: relative;}#sk-container-id-2 div.sk-text-repr-fallback {display: none;}</style><div id=\"sk-container-id-2\" class=\"sk-top-container\"><div class=\"sk-text-repr-fallback\"><pre>LogisticRegression(max_iter=1000, random_state=42, solver=&#x27;liblinear&#x27;)</pre><b>In a Jupyter environment, please rerun this cell to show the HTML representation or trust the notebook. <br />On GitHub, the HTML representation is unable to render, please try loading this page with nbviewer.org.</b></div><div class=\"sk-container\" hidden><div class=\"sk-item\"><div class=\"sk-estimator sk-toggleable\"><input class=\"sk-toggleable__control sk-hidden--visually\" id=\"sk-estimator-id-2\" type=\"checkbox\" checked><label for=\"sk-estimator-id-2\" class=\"sk-toggleable__label sk-toggleable__label-arrow\">LogisticRegression</label><div class=\"sk-toggleable__content\"><pre>LogisticRegression(max_iter=1000, random_state=42, solver=&#x27;liblinear&#x27;)</pre></div></div></div></div></div>"
      ],
      "text/plain": [
       "LogisticRegression(max_iter=1000, random_state=42, solver='liblinear')"
      ]
     },
     "execution_count": 37,
     "metadata": {},
     "output_type": "execute_result"
    }
   ],
   "source": [
    "from sklearn.linear_model import LogisticRegression \n",
    "\n",
    "model = LogisticRegression(solver=\"liblinear\", C=1.0, max_iter=1000, random_state=42)\n",
    "model.fit(X_train, y_train)"
   ]
  },
  {
   "cell_type": "code",
   "execution_count": 53,
   "id": "5d935993-5e76-4910-a18b-37ad52f56198",
   "metadata": {},
   "outputs": [],
   "source": [
    "y_pred = model.predict(X_val)    # Hard prediction\n",
    "\n",
    "# But we need soft prediction for making a decision\n",
    "\n",
    "y_pred = model.predict_proba(X_val)    # Probability of False, Probability of True\n",
    "y_pred = y_pred[:, 1]"
   ]
  },
  {
   "cell_type": "code",
   "execution_count": 57,
   "id": "6bcfa61b-971a-4763-a141-d38e112284a2",
   "metadata": {},
   "outputs": [],
   "source": [
    "above_average_value = y_pred >= 0.5"
   ]
  },
  {
   "cell_type": "code",
   "execution_count": 63,
   "id": "1f1bf7bc-7500-4b17-9da4-616e40ecd847",
   "metadata": {},
   "outputs": [
    {
     "data": {
      "text/plain": [
       "0.84"
      ]
     },
     "execution_count": 63,
     "metadata": {},
     "output_type": "execute_result"
    }
   ],
   "source": [
    "accuracy = (y_val == above_average_value).mean().round(2)\n",
    "accuracy"
   ]
  },
  {
   "cell_type": "markdown",
   "id": "76b33551-0e58-4620-8e19-aa48f7d2e419",
   "metadata": {},
   "source": [
    "# Question 5\n",
    "\n",
    "Let's find the least useful feature using the feature elimination technique.\n",
    "\n",
    "- Train a model with all these features (using the same parameters as in Q4).\n",
    "- Now exclude each feature from this set and train a model without it. Record the accuracy for each model.\n",
    "- For each feature, calculate the difference between the original accuracy and the accuracy without the feature.\n",
    "\n",
    "\n",
    "Which of following feature has the smallest difference?\n",
    "- total_rooms\n",
    "- total_bedrooms\n",
    "- population\n",
    "- households"
   ]
  },
  {
   "cell_type": "code",
   "execution_count": 97,
   "id": "343086ee-17b1-46c7-a7a8-abf038ad3339",
   "metadata": {},
   "outputs": [
    {
     "name": "stdout",
     "output_type": "stream",
     "text": [
      "The original accuracy of the model is 0.84\n"
     ]
    },
    {
     "data": {
      "text/plain": [
       "['latitude',\n",
       " 'longitude',\n",
       " 'housing_median_age',\n",
       " 'total_rooms',\n",
       " 'total_bedrooms',\n",
       " 'population',\n",
       " 'households',\n",
       " 'median_income',\n",
       " 'ocean_proximity',\n",
       " 'rooms_per_household',\n",
       " 'bedrooms_per_room',\n",
       " 'population_per_household']"
      ]
     },
     "execution_count": 97,
     "metadata": {},
     "output_type": "execute_result"
    }
   ],
   "source": [
    "base_accuracy = accuracy\n",
    "\n",
    "print(f\"The original accuracy of the model is {base_accuracy}\")\n",
    "\n",
    "base_features = list(train_df.columns.values)\n",
    "base_features"
   ]
  },
  {
   "cell_type": "markdown",
   "id": "0814a575-f307-4a89-a3c3-09aa9849fbc8",
   "metadata": {},
   "source": [
    "## Training the model with all features"
   ]
  },
  {
   "cell_type": "code",
   "execution_count": 108,
   "id": "709e44b3-f8a5-46dc-811b-65587eb0b383",
   "metadata": {},
   "outputs": [],
   "source": [
    "def train_logistic_regression_without_feature(exclude: str=None) -> tuple[str, int, int]:\n",
    "    features_to_use = base_features.copy()\n",
    "    features_to_use.remove(exclude)\n",
    "    \n",
    "    train_df_exc = train_df[features_to_use]\n",
    "    val_df_exc = val_df[features_to_use]\n",
    "    \n",
    "    \n",
    "    # Getting the X matrix for the training\n",
    "    train_dict_exc = train_df_exc.to_dict(orient='records')\n",
    "    X_train_exc = dv.fit_transform(train_dict_exc)\n",
    "    \n",
    "    print(dv.get_feature_names_out())\n",
    "    \n",
    "    val_dict_exc = val_df_exc.to_dict(orient='records')\n",
    "    X_val_exc = dv.fit_transform(val_dict_exc)\n",
    "    \n",
    "    # Training the model using Logistic Regression\n",
    "    model.fit(X_train_exc, y_train)\n",
    "    y_pred_exc = model.predict_proba(X_val_exc)[:, 1]\n",
    "    \n",
    "    # Getting the accuracy\n",
    "    above_avg_pred = y_pred_exc >= 0.5\n",
    "    accuracy_exc = (y_val - above_avg_pred).mean()\n",
    "    \n",
    "    returned =  {\n",
    "        'feature': exclude,\n",
    "        'accuracy': accuracy_exc,\n",
    "        'diff': (base_accuracy - accuracy_exc).round(2)\n",
    "    }\n",
    "    \n",
    "    print(f\"Returned value: {returned}\")\n",
    "    print('\\n\\n')\n",
    "    \n",
    "    return {\n",
    "        'feature': exclude,\n",
    "        'accuracy': accuracy_exc,\n",
    "        'diff': (base_accuracy - accuracy_exc).round(2)\n",
    "    }   "
   ]
  },
  {
   "cell_type": "code",
   "execution_count": 109,
   "id": "d405de15-b251-4d53-b777-f20532198800",
   "metadata": {},
   "outputs": [
    {
     "name": "stdout",
     "output_type": "stream",
     "text": [
      "Feature: latitude\n",
      "['bedrooms_per_room' 'households' 'housing_median_age' 'longitude'\n",
      " 'median_income' 'ocean_proximity=<1H OCEAN' 'ocean_proximity=INLAND'\n",
      " 'ocean_proximity=ISLAND' 'ocean_proximity=NEAR BAY'\n",
      " 'ocean_proximity=NEAR OCEAN' 'population' 'population_per_household'\n",
      " 'rooms_per_household' 'total_bedrooms' 'total_rooms']\n",
      "Returned value: {'feature': 'latitude', 'accuracy': 0.001695736434108527, 'diff': 0.84}\n",
      "\n",
      "\n",
      "\n",
      "Feature: longitude\n",
      "['bedrooms_per_room' 'households' 'housing_median_age' 'latitude'\n",
      " 'median_income' 'ocean_proximity=<1H OCEAN' 'ocean_proximity=INLAND'\n",
      " 'ocean_proximity=ISLAND' 'ocean_proximity=NEAR BAY'\n",
      " 'ocean_proximity=NEAR OCEAN' 'population' 'population_per_household'\n",
      " 'rooms_per_household' 'total_bedrooms' 'total_rooms']\n",
      "Returned value: {'feature': 'longitude', 'accuracy': 0.00024224806201550387, 'diff': 0.84}\n",
      "\n",
      "\n",
      "\n",
      "Feature: housing_median_age\n",
      "['bedrooms_per_room' 'households' 'latitude' 'longitude' 'median_income'\n",
      " 'ocean_proximity=<1H OCEAN' 'ocean_proximity=INLAND'\n",
      " 'ocean_proximity=ISLAND' 'ocean_proximity=NEAR BAY'\n",
      " 'ocean_proximity=NEAR OCEAN' 'population' 'population_per_household'\n",
      " 'rooms_per_household' 'total_bedrooms' 'total_rooms']\n",
      "Returned value: {'feature': 'housing_median_age', 'accuracy': 0.0048449612403100775, 'diff': 0.84}\n",
      "\n",
      "\n",
      "\n",
      "Feature: total_rooms\n",
      "['bedrooms_per_room' 'households' 'housing_median_age' 'latitude'\n",
      " 'longitude' 'median_income' 'ocean_proximity=<1H OCEAN'\n",
      " 'ocean_proximity=INLAND' 'ocean_proximity=ISLAND'\n",
      " 'ocean_proximity=NEAR BAY' 'ocean_proximity=NEAR OCEAN' 'population'\n",
      " 'population_per_household' 'rooms_per_household' 'total_bedrooms']\n",
      "Returned value: {'feature': 'total_rooms', 'accuracy': 0.002180232558139535, 'diff': 0.84}\n",
      "\n",
      "\n",
      "\n",
      "Feature: total_bedrooms\n",
      "['bedrooms_per_room' 'households' 'housing_median_age' 'latitude'\n",
      " 'longitude' 'median_income' 'ocean_proximity=<1H OCEAN'\n",
      " 'ocean_proximity=INLAND' 'ocean_proximity=ISLAND'\n",
      " 'ocean_proximity=NEAR BAY' 'ocean_proximity=NEAR OCEAN' 'population'\n",
      " 'population_per_household' 'rooms_per_household' 'total_rooms']\n",
      "Returned value: {'feature': 'total_bedrooms', 'accuracy': 0.003875968992248062, 'diff': 0.84}\n",
      "\n",
      "\n",
      "\n",
      "Feature: population\n",
      "['bedrooms_per_room' 'households' 'housing_median_age' 'latitude'\n",
      " 'longitude' 'median_income' 'ocean_proximity=<1H OCEAN'\n",
      " 'ocean_proximity=INLAND' 'ocean_proximity=ISLAND'\n",
      " 'ocean_proximity=NEAR BAY' 'ocean_proximity=NEAR OCEAN'\n",
      " 'population_per_household' 'rooms_per_household' 'total_bedrooms'\n",
      " 'total_rooms']\n",
      "Returned value: {'feature': 'population', 'accuracy': 0.0075096899224806205, 'diff': 0.83}\n",
      "\n",
      "\n",
      "\n",
      "Feature: households\n",
      "['bedrooms_per_room' 'housing_median_age' 'latitude' 'longitude'\n",
      " 'median_income' 'ocean_proximity=<1H OCEAN' 'ocean_proximity=INLAND'\n",
      " 'ocean_proximity=ISLAND' 'ocean_proximity=NEAR BAY'\n",
      " 'ocean_proximity=NEAR OCEAN' 'population' 'population_per_household'\n",
      " 'rooms_per_household' 'total_bedrooms' 'total_rooms']\n",
      "Returned value: {'feature': 'households', 'accuracy': 0.005329457364341085, 'diff': 0.83}\n",
      "\n",
      "\n",
      "\n",
      "Feature: median_income\n",
      "['bedrooms_per_room' 'households' 'housing_median_age' 'latitude'\n",
      " 'longitude' 'ocean_proximity=<1H OCEAN' 'ocean_proximity=INLAND'\n",
      " 'ocean_proximity=ISLAND' 'ocean_proximity=NEAR BAY'\n",
      " 'ocean_proximity=NEAR OCEAN' 'population' 'population_per_household'\n",
      " 'rooms_per_household' 'total_bedrooms' 'total_rooms']\n",
      "Returned value: {'feature': 'median_income', 'accuracy': -0.03875968992248062, 'diff': 0.88}\n",
      "\n",
      "\n",
      "\n",
      "Feature: ocean_proximity\n",
      "['bedrooms_per_room' 'households' 'housing_median_age' 'latitude'\n",
      " 'longitude' 'median_income' 'population' 'population_per_household'\n",
      " 'rooms_per_household' 'total_bedrooms' 'total_rooms']\n",
      "Returned value: {'feature': 'ocean_proximity', 'accuracy': 0.028585271317829456, 'diff': 0.81}\n",
      "\n",
      "\n",
      "\n",
      "Feature: rooms_per_household\n",
      "['bedrooms_per_room' 'households' 'housing_median_age' 'latitude'\n",
      " 'longitude' 'median_income' 'ocean_proximity=<1H OCEAN'\n",
      " 'ocean_proximity=INLAND' 'ocean_proximity=ISLAND'\n",
      " 'ocean_proximity=NEAR BAY' 'ocean_proximity=NEAR OCEAN' 'population'\n",
      " 'population_per_household' 'total_bedrooms' 'total_rooms']\n",
      "Returned value: {'feature': 'rooms_per_household', 'accuracy': 0.0031492248062015503, 'diff': 0.84}\n",
      "\n",
      "\n",
      "\n",
      "Feature: bedrooms_per_room\n",
      "['households' 'housing_median_age' 'latitude' 'longitude' 'median_income'\n",
      " 'ocean_proximity=<1H OCEAN' 'ocean_proximity=INLAND'\n",
      " 'ocean_proximity=ISLAND' 'ocean_proximity=NEAR BAY'\n",
      " 'ocean_proximity=NEAR OCEAN' 'population' 'population_per_household'\n",
      " 'rooms_per_household' 'total_bedrooms' 'total_rooms']\n",
      "Returned value: {'feature': 'bedrooms_per_room', 'accuracy': 0.001937984496124031, 'diff': 0.84}\n",
      "\n",
      "\n",
      "\n",
      "Feature: population_per_household\n",
      "['bedrooms_per_room' 'households' 'housing_median_age' 'latitude'\n",
      " 'longitude' 'median_income' 'ocean_proximity=<1H OCEAN'\n",
      " 'ocean_proximity=INLAND' 'ocean_proximity=ISLAND'\n",
      " 'ocean_proximity=NEAR BAY' 'ocean_proximity=NEAR OCEAN' 'population'\n",
      " 'rooms_per_household' 'total_bedrooms' 'total_rooms']\n",
      "Returned value: {'feature': 'population_per_household', 'accuracy': 0.0024224806201550387, 'diff': 0.84}\n",
      "\n",
      "\n",
      "\n"
     ]
    },
    {
     "data": {
      "text/plain": [
       "[{'feature': 'latitude', 'accuracy': 0.001695736434108527, 'diff': 0.84},\n",
       " {'feature': 'longitude', 'accuracy': 0.00024224806201550387, 'diff': 0.84},\n",
       " {'feature': 'housing_median_age',\n",
       "  'accuracy': 0.0048449612403100775,\n",
       "  'diff': 0.84},\n",
       " {'feature': 'total_rooms', 'accuracy': 0.002180232558139535, 'diff': 0.84},\n",
       " {'feature': 'total_bedrooms', 'accuracy': 0.003875968992248062, 'diff': 0.84},\n",
       " {'feature': 'population', 'accuracy': 0.0075096899224806205, 'diff': 0.83},\n",
       " {'feature': 'households', 'accuracy': 0.005329457364341085, 'diff': 0.83},\n",
       " {'feature': 'median_income', 'accuracy': -0.03875968992248062, 'diff': 0.88},\n",
       " {'feature': 'ocean_proximity',\n",
       "  'accuracy': 0.028585271317829456,\n",
       "  'diff': 0.81},\n",
       " {'feature': 'rooms_per_household',\n",
       "  'accuracy': 0.0031492248062015503,\n",
       "  'diff': 0.84},\n",
       " {'feature': 'bedrooms_per_room',\n",
       "  'accuracy': 0.001937984496124031,\n",
       "  'diff': 0.84},\n",
       " {'feature': 'population_per_household',\n",
       "  'accuracy': 0.0024224806201550387,\n",
       "  'diff': 0.84}]"
      ]
     },
     "execution_count": 109,
     "metadata": {},
     "output_type": "execute_result"
    }
   ],
   "source": [
    "accuracy_per_feature = []\n",
    "\n",
    "for feature in base_features:\n",
    "    print(f\"Feature: {feature}\")\n",
    "    accuracy_per_feature.append(train_logistic_regression_without_feature(exclude=feature))\n",
    "    \n",
    "accuracy_per_feature"
   ]
  },
  {
   "cell_type": "markdown",
   "id": "283f22f9-0391-43e3-9e67-fae0ec633af6",
   "metadata": {},
   "source": [
    "# Question 6\n",
    "\n",
    "- For this question, we'll see how to use a linear regression model from Scikit-Learn\n",
    "- We'll need to use the original column 'median_house_value'. Apply the logarithmic transformation to this column.\n",
    "- Fit the Ridge regression model (model = Ridge(alpha=a, solver=\"sag\", random_state=42)) on the training data.\n",
    "- This model has a parameter alpha. Let's try the following values: [0, 0.01, 0.1, 1, 10]\n",
    "- Which of these alphas leads to the best RMSE on the validation set? Round your RMSE scores to 3 decimal digits.\n",
    "- If there are multiple options, select the smallest alpha.\n",
    "\n",
    "Options:\n",
    "- 0\n",
    "- 0.01\n",
    "- 0.1\n",
    "- 1\n",
    "- 10"
   ]
  },
  {
   "cell_type": "code",
   "execution_count": 113,
   "id": "c85a3f7a-7f2e-463f-a3a9-9c2d8cd81446",
   "metadata": {},
   "outputs": [],
   "source": [
    "full_train_df_lr, test_df_lr = train_test_split(housing_df, test_size=0.2, random_state=42)\n",
    "train_df_lr, val_df_lr = train_test_split(full_train_df, test_size=0.25, random_state=42)\n",
    "\n",
    "train_df_lr = train_df_lr.reset_index(drop=True)\n",
    "val_df_lr = val_df_lr.reset_index(drop=True)\n",
    "test_df_lr = test_df_lr.reset_index(drop=True)\n",
    "\n",
    "y_train_lr = np.log1p(train_df_lr['median_house_value'].values)\n",
    "y_val_lr = np.log1p(val_df_lr['median_house_value'].values)\n",
    "y_test_lr = np.log1p(test_df_lr['median_house_value'].values)\n",
    "\n",
    "del train_df_lr['median_house_value']\n",
    "del val_df_lr['median_house_value']\n",
    "del test_df_lr['median_house_value']"
   ]
  },
  {
   "cell_type": "code",
   "execution_count": null,
   "id": "1b58dfc3-6c77-42e5-8141-a624d4830feb",
   "metadata": {},
   "outputs": [],
   "source": [
    "from sklearn.linear_model import Ridge\n",
    "\n",
    "for a in  [0, 0.01, 0.1, 1, 10]:\n",
    "    model = Ridge(alpha=a, solver=\"sag\", random_state=42)\n",
    "    train_dict_lr = train_df_lr.to_dict(orient='records')\n",
    "    X_train_lr = dv.fit_transform(train_dict_lr)\n",
    "    \n",
    "    print(dv.get_feature_names_out())\n",
    "    \n",
    "    val_dict_lr = val_df_lr.to_dict(orient='records')\n",
    "    X_val_lr = dv.fit_transform(val_dict_lr)\n",
    "    \n",
    "    model.fit(X_train_lr, y_train_lr)\n",
    "    \n",
    "    predict = model.predict(X_val_lr)\n",
    "    "
   ]
  }
 ],
 "metadata": {
  "kernelspec": {
   "display_name": "Python 3 (ipykernel)",
   "language": "python",
   "name": "python3"
  },
  "language_info": {
   "codemirror_mode": {
    "name": "ipython",
    "version": 3
   },
   "file_extension": ".py",
   "mimetype": "text/x-python",
   "name": "python",
   "nbconvert_exporter": "python",
   "pygments_lexer": "ipython3",
   "version": "3.10.6"
  }
 },
 "nbformat": 4,
 "nbformat_minor": 5
}
