{
 "cells": [
  {
   "cell_type": "markdown",
   "metadata": {},
   "source": [
    "# Car Price Prediction using Linear Regression"
   ]
  },
  {
   "cell_type": "code",
   "execution_count": 2,
   "metadata": {},
   "outputs": [],
   "source": [
    "import pandas as pd\n",
    "import numpy as np\n",
    "import matplotlib.pyplot as plt\n",
    "import seaborn as sns"
   ]
  },
  {
   "cell_type": "code",
   "execution_count": 3,
   "metadata": {},
   "outputs": [
    {
     "name": "stdout",
     "output_type": "stream",
     "text": [
      "<class 'pandas.core.frame.DataFrame'>\n",
      "RangeIndex: 11914 entries, 0 to 11913\n",
      "Data columns (total 16 columns):\n",
      " #   Column             Non-Null Count  Dtype  \n",
      "---  ------             --------------  -----  \n",
      " 0   Make               11914 non-null  object \n",
      " 1   Model              11914 non-null  object \n",
      " 2   Year               11914 non-null  int64  \n",
      " 3   Engine Fuel Type   11911 non-null  object \n",
      " 4   Engine HP          11845 non-null  float64\n",
      " 5   Engine Cylinders   11884 non-null  float64\n",
      " 6   Transmission Type  11914 non-null  object \n",
      " 7   Driven_Wheels      11914 non-null  object \n",
      " 8   Number of Doors    11908 non-null  float64\n",
      " 9   Market Category    8172 non-null   object \n",
      " 10  Vehicle Size       11914 non-null  object \n",
      " 11  Vehicle Style      11914 non-null  object \n",
      " 12  highway MPG        11914 non-null  int64  \n",
      " 13  city mpg           11914 non-null  int64  \n",
      " 14  Popularity         11914 non-null  int64  \n",
      " 15  MSRP               11914 non-null  int64  \n",
      "dtypes: float64(3), int64(5), object(8)\n",
      "memory usage: 1.5+ MB\n"
     ]
    }
   ],
   "source": [
    "car_price_df = pd.read_csv(\"./helper files/car_price_data.csv\")\n",
    "car_price_df.info()"
   ]
  },
  {
   "cell_type": "code",
   "execution_count": 3,
   "metadata": {},
   "outputs": [
    {
     "data": {
      "text/plain": [
       "<AxesSubplot:xlabel='MSRP', ylabel='Count'>"
      ]
     },
     "execution_count": 3,
     "metadata": {},
     "output_type": "execute_result"
    },
    {
     "data": {
      "image/png": "[encoded data removed]",
      "text/plain": [
       "<Figure size 640x480 with 1 Axes>"
      ]
     },
     "metadata": {},
     "output_type": "display_data"
    }
   ],
   "source": [
    "sns.histplot(car_price_df[car_price_df['MSRP'] < 100000]['MSRP'], color='red', legend=\"< 100000\", bins=50)"
   ]
  },
  {
   "cell_type": "markdown",
   "metadata": {},
   "source": [
    "## Cleaning the dataset"
   ]
  },
  {
   "cell_type": "code",
   "execution_count": 4,
   "metadata": {},
   "outputs": [
    {
     "data": {
      "text/html": [
       "<div>\n",
       "<style scoped>\n",
       "    .dataframe tbody tr th:only-of-type {\n",
       "        vertical-align: middle;\n",
       "    }\n",
       "\n",
       "    .dataframe tbody tr th {\n",
       "        vertical-align: top;\n",
       "    }\n",
       "\n",
       "    .dataframe thead th {\n",
       "        text-align: right;\n",
       "    }\n",
       "</style>\n",
       "<table border=\"1\" class=\"dataframe\">\n",
       "  <thead>\n",
       "    <tr style=\"text-align: right;\">\n",
       "      <th></th>\n",
       "      <th>make</th>\n",
       "      <th>model</th>\n",
       "      <th>year</th>\n",
       "      <th>engine_fuel_type</th>\n",
       "      <th>engine_hp</th>\n",
       "      <th>engine_cylinders</th>\n",
       "      <th>transmission_type</th>\n",
       "      <th>driven_wheels</th>\n",
       "      <th>number_of_doors</th>\n",
       "      <th>market_category</th>\n",
       "      <th>vehicle_size</th>\n",
       "      <th>vehicle_style</th>\n",
       "      <th>highway_mpg</th>\n",
       "      <th>city_mpg</th>\n",
       "      <th>popularity</th>\n",
       "      <th>msrp</th>\n",
       "    </tr>\n",
       "  </thead>\n",
       "  <tbody>\n",
       "    <tr>\n",
       "      <th>0</th>\n",
       "      <td>bmw</td>\n",
       "      <td>1_series_m</td>\n",
       "      <td>2011</td>\n",
       "      <td>premium_unleaded_(required)</td>\n",
       "      <td>335.0</td>\n",
       "      <td>6.0</td>\n",
       "      <td>manual</td>\n",
       "      <td>rear_wheel_drive</td>\n",
       "      <td>2.0</td>\n",
       "      <td>factory_tuner,luxury,high-performance</td>\n",
       "      <td>compact</td>\n",
       "      <td>coupe</td>\n",
       "      <td>26</td>\n",
       "      <td>19</td>\n",
       "      <td>3916</td>\n",
       "      <td>46135</td>\n",
       "    </tr>\n",
       "    <tr>\n",
       "      <th>1</th>\n",
       "      <td>bmw</td>\n",
       "      <td>1_series</td>\n",
       "      <td>2011</td>\n",
       "      <td>premium_unleaded_(required)</td>\n",
       "      <td>300.0</td>\n",
       "      <td>6.0</td>\n",
       "      <td>manual</td>\n",
       "      <td>rear_wheel_drive</td>\n",
       "      <td>2.0</td>\n",
       "      <td>luxury,performance</td>\n",
       "      <td>compact</td>\n",
       "      <td>convertible</td>\n",
       "      <td>28</td>\n",
       "      <td>19</td>\n",
       "      <td>3916</td>\n",
       "      <td>40650</td>\n",
       "    </tr>\n",
       "    <tr>\n",
       "      <th>2</th>\n",
       "      <td>bmw</td>\n",
       "      <td>1_series</td>\n",
       "      <td>2011</td>\n",
       "      <td>premium_unleaded_(required)</td>\n",
       "      <td>300.0</td>\n",
       "      <td>6.0</td>\n",
       "      <td>manual</td>\n",
       "      <td>rear_wheel_drive</td>\n",
       "      <td>2.0</td>\n",
       "      <td>luxury,high-performance</td>\n",
       "      <td>compact</td>\n",
       "      <td>coupe</td>\n",
       "      <td>28</td>\n",
       "      <td>20</td>\n",
       "      <td>3916</td>\n",
       "      <td>36350</td>\n",
       "    </tr>\n",
       "    <tr>\n",
       "      <th>3</th>\n",
       "      <td>bmw</td>\n",
       "      <td>1_series</td>\n",
       "      <td>2011</td>\n",
       "      <td>premium_unleaded_(required)</td>\n",
       "      <td>230.0</td>\n",
       "      <td>6.0</td>\n",
       "      <td>manual</td>\n",
       "      <td>rear_wheel_drive</td>\n",
       "      <td>2.0</td>\n",
       "      <td>luxury,performance</td>\n",
       "      <td>compact</td>\n",
       "      <td>coupe</td>\n",
       "      <td>28</td>\n",
       "      <td>18</td>\n",
       "      <td>3916</td>\n",
       "      <td>29450</td>\n",
       "    </tr>\n",
       "    <tr>\n",
       "      <th>4</th>\n",
       "      <td>bmw</td>\n",
       "      <td>1_series</td>\n",
       "      <td>2011</td>\n",
       "      <td>premium_unleaded_(required)</td>\n",
       "      <td>230.0</td>\n",
       "      <td>6.0</td>\n",
       "      <td>manual</td>\n",
       "      <td>rear_wheel_drive</td>\n",
       "      <td>2.0</td>\n",
       "      <td>luxury</td>\n",
       "      <td>compact</td>\n",
       "      <td>convertible</td>\n",
       "      <td>28</td>\n",
       "      <td>18</td>\n",
       "      <td>3916</td>\n",
       "      <td>34500</td>\n",
       "    </tr>\n",
       "  </tbody>\n",
       "</table>\n",
       "</div>"
      ],
      "text/plain": [
       "  make       model  year             engine_fuel_type  engine_hp  \\\n",
       "0  bmw  1_series_m  2011  premium_unleaded_(required)      335.0   \n",
       "1  bmw    1_series  2011  premium_unleaded_(required)      300.0   \n",
       "2  bmw    1_series  2011  premium_unleaded_(required)      300.0   \n",
       "3  bmw    1_series  2011  premium_unleaded_(required)      230.0   \n",
       "4  bmw    1_series  2011  premium_unleaded_(required)      230.0   \n",
       "\n",
       "   engine_cylinders transmission_type     driven_wheels  number_of_doors  \\\n",
       "0               6.0            manual  rear_wheel_drive              2.0   \n",
       "1               6.0            manual  rear_wheel_drive              2.0   \n",
       "2               6.0            manual  rear_wheel_drive              2.0   \n",
       "3               6.0            manual  rear_wheel_drive              2.0   \n",
       "4               6.0            manual  rear_wheel_drive              2.0   \n",
       "\n",
       "                         market_category vehicle_size vehicle_style  \\\n",
       "0  factory_tuner,luxury,high-performance      compact         coupe   \n",
       "1                     luxury,performance      compact   convertible   \n",
       "2                luxury,high-performance      compact         coupe   \n",
       "3                     luxury,performance      compact         coupe   \n",
       "4                                 luxury      compact   convertible   \n",
       "\n",
       "   highway_mpg  city_mpg  popularity   msrp  \n",
       "0           26        19        3916  46135  \n",
       "1           28        19        3916  40650  \n",
       "2           28        20        3916  36350  \n",
       "3           28        18        3916  29450  \n",
       "4           28        18        3916  34500  "
      ]
     },
     "execution_count": 4,
     "metadata": {},
     "output_type": "execute_result"
    }
   ],
   "source": [
    "car_price_df.columns = car_price_df.columns.str.lower()\n",
    "car_price_df.columns = car_price_df.columns.str.replace(' ', '_')\n",
    "\n",
    "object_columns = list(car_price_df.dtypes[car_price_df.dtypes == 'object'].index)\n",
    "\n",
    "for column in object_columns:\n",
    "    car_price_df[column] = car_price_df[column].str.lower()\n",
    "    car_price_df[column] = car_price_df[column].str.replace(' ', '_')\n",
    "\n",
    "car_price_df.head()"
   ]
  },
  {
   "cell_type": "markdown",
   "metadata": {},
   "source": [
    "## Functions to be used for the model"
   ]
  },
  {
   "cell_type": "code",
   "execution_count": 5,
   "metadata": {},
   "outputs": [],
   "source": [
    "def distribute_dataframe(df: pd.DataFrame) -> tuple[pd.DataFrame, pd.DataFrame, pd.DataFrame]:\n",
    "    val_df_size, test_df_size = int(len(df) * 0.2), int(len(df) * 0.2)\n",
    "    train_df_size = len(df) - val_df_size - test_df_size\n",
    "\n",
    "    records_range = np.arange(len(df))\n",
    "    np.random.seed(42)\n",
    "    np.random.shuffle(records_range)\n",
    "\n",
    "    train_df = df.iloc[:train_df_size]\n",
    "    val_df = df.iloc[train_df_size:train_df_size+val_df_size]\n",
    "    test_df = df.iloc[train_df_size+val_df_size:]\n",
    "\n",
    "    # Resetting the indices of the data frames\n",
    "    train_df = train_df.reset_index(drop=True)\n",
    "    val_df = val_df.reset_index(drop=True)\n",
    "    test_df = test_df.reset_index(drop=True)\n",
    "\n",
    "    return train_df, val_df, test_df\n",
    "\n",
    "def prepare_X(df: pd.DataFrame, fill: int = 0) -> np.ndarray:\n",
    "    features_to_use = ['year', 'engine_hp', 'engine_cylinders', 'number_of_doors', 'highway_mpg', 'city_mpg', 'popularity']\n",
    "\n",
    "    X = df[features_to_use]\n",
    "    X = X.fillna(fill)\n",
    "    X = X.values\n",
    "\n",
    "    return X\n",
    "\n",
    "def prepare_y(df: pd.DataFrame) -> np.ndarray:\n",
    "    y = df['msrp'].values\n",
    "    y = np.log1p(y)  # to reduce the long tail distribution of the MSRP distribution\n",
    "    del df['msrp']\n",
    "    return y\n",
    "\n",
    "def train_linear_regression(X: np.ndarray, y: np.ndarray) -> tuple[np.float64, np.ndarray]:\n",
    "    # Adding the bias values to the X to account for scenarios where no information is available\n",
    "    bias_matrix = np.ones(X.shape[0])\n",
    "    \n",
    "    X = np.column_stack((bias_matrix, X))\n",
    "\n",
    "    XT = X.T\n",
    "    XTX = XT.dot(X)\n",
    "    XTX_inv = np.linalg.inv(XTX)\n",
    "\n",
    "    w_full = XTX_inv.dot(XT).dot(y)\n",
    "\n",
    "    return w_full[0], w_full[1:]\n",
    "\n"
   ]
  },
  {
   "cell_type": "code",
   "execution_count": 6,
   "metadata": {},
   "outputs": [
    {
     "data": {
      "text/plain": [
       "array([11.07634481, 11.22988482, 11.2325765 , ..., 11.18725094,\n",
       "       11.18725094, 11.19320574])"
      ]
     },
     "execution_count": 6,
     "metadata": {},
     "output_type": "execute_result"
    }
   ],
   "source": [
    "train_df, val_df, test_df = distribute_dataframe(car_price_df)\n",
    "\n",
    "y_train = prepare_y(train_df)\n",
    "y_val = prepare_y(val_df)\n",
    "y_test = prepare_y(test_df)\n",
    "\n",
    "X_train = prepare_X(train_df)\n",
    "X_val = prepare_X(val_df)\n",
    "\n",
    "w0, w = train_linear_regression(X_train, y_train)\n",
    "\n",
    "y_pred = w0 + X_val.dot(w)\n",
    "y_pred"
   ]
  },
  {
   "cell_type": "code",
   "execution_count": 7,
   "metadata": {},
   "outputs": [],
   "source": [
    "def calculate_rmse(y_actual: np.ndarray, y_prediction: np.ndarray) -> np.float64:\n",
    "    e = y_actual - y_prediction\n",
    "    se = e ** 2\n",
    "    mse = np.mean(se)\n",
    "    rmse = np.sqrt(mse)\n",
    "    return rmse"
   ]
  },
  {
   "cell_type": "code",
   "execution_count": 8,
   "metadata": {},
   "outputs": [
    {
     "data": {
      "text/plain": [
       "0.5092818630324761"
      ]
     },
     "execution_count": 8,
     "metadata": {},
     "output_type": "execute_result"
    }
   ],
   "source": [
    "rmse_train = calculate_rmse(y_val, y_pred)\n",
    "rmse_train"
   ]
  },
  {
   "cell_type": "code",
   "execution_count": 9,
   "metadata": {},
   "outputs": [
    {
     "name": "stdout",
     "output_type": "stream",
     "text": [
      "The different types of data in the dataset are: dict_keys(['object', 'int64', 'float64'])\n",
      "int64 columns: [5, ['year', 'highway_mpg', 'city_mpg', 'popularity', 'msrp']]\n",
      "float64 columns: [3, ['engine_hp', 'engine_cylinders', 'number_of_doors']]\n",
      "object columns: [8, ['make', 'model', 'engine_fuel_type', 'transmission_type', 'driven_wheels', 'market_category', 'vehicle_size', 'vehicle_style']]\n"
     ]
    }
   ],
   "source": [
    "total_types: dict[str, list[int, list[str]]] = {}\n",
    "\n",
    "for column_name, type in car_price_df.dtypes.items():\n",
    "    if str(type) not in total_types:\n",
    "        total_types[str(type)] = [1, [column_name]]\n",
    "    else:\n",
    "        total_types[str(type)][0] += 1\n",
    "        total_types[str(type)][1].append(column_name)\n",
    "\n",
    "print(f\"The different types of data in the dataset are: {total_types.keys()}\")\n",
    "\n",
    "\n",
    "print(f\"int64 columns: {total_types['int64']}\")\n",
    "print(f\"float64 columns: {total_types['float64']}\")\n",
    "print(f\"object columns: {total_types['object']}\")"
   ]
  },
  {
   "cell_type": "code",
   "execution_count": 12,
   "metadata": {},
   "outputs": [
    {
     "data": {
      "text/plain": [
       "{'make': ['ford', 'volkswagen', 'chevrolet', 'nissan', 'mazda'],\n",
       " 'model': ['f-150', 'beetle_convertible', 'gti', 'frontier', 'accord'],\n",
       " 'engine_fuel_type': ['regular_unleaded',\n",
       "  'premium_unleaded_(required)',\n",
       "  'premium_unleaded_(recommended)',\n",
       "  'flex-fuel_(unleaded/e85)',\n",
       "  'diesel'],\n",
       " 'transmission_type': ['automatic',\n",
       "  'manual',\n",
       "  'automated_manual',\n",
       "  'direct_drive',\n",
       "  'unknown'],\n",
       " 'driven_wheels': ['front_wheel_drive',\n",
       "  'rear_wheel_drive',\n",
       "  'all_wheel_drive',\n",
       "  'four_wheel_drive'],\n",
       " 'market_category': ['luxury',\n",
       "  'crossover',\n",
       "  'luxury,performance',\n",
       "  'performance',\n",
       "  'hatchback'],\n",
       " 'vehicle_size': ['compact', 'midsize', 'large'],\n",
       " 'vehicle_style': ['sedan',\n",
       "  '4dr_suv',\n",
       "  'coupe',\n",
       "  'convertible',\n",
       "  '4dr_hatchback']}"
      ]
     },
     "execution_count": 12,
     "metadata": {},
     "output_type": "execute_result"
    }
   ],
   "source": [
    "categorical_feature_values = {}\n",
    "for feature in total_types['object'][1]:\n",
    "    categorical_feature_values[feature] = list(train_df[feature].value_counts().index[:5])\n",
    "    \n",
    "categorical_feature_values"
   ]
  },
  {
   "cell_type": "code",
   "execution_count": 25,
   "metadata": {},
   "outputs": [],
   "source": [
    "def prepare_X_improved(df: pd.DataFrame, fill=0) -> np.ndarray:\n",
    "    features_to_use = ['age', 'engine_hp', 'engine_cylinders', 'number_of_doors', 'highway_mpg', 'city_mpg', 'popularity']\n",
    "\n",
    "    X = df.copy()\n",
    "\n",
    "    max_year = X['year'].max()    \n",
    "    X['age'] = max_year - X['year']\n",
    "\n",
    "    for cat_feature, values in categorical_feature_values.items():\n",
    "        for value in values:\n",
    "            X[f\"{cat_feature}_{value}\"] = (X[cat_feature] == value).astype(int)\n",
    "            features_to_use.append(f\"{cat_feature}_{value}\")\n",
    "    \n",
    "    print(f\"Using {len(features_to_use)} features for preparing feature matrix\")\n",
    "    \n",
    "    X = X[features_to_use]\n",
    "\n",
    "    X = X.fillna(fill)\n",
    "    X = X.values\n",
    "\n",
    "    return X"
   ]
  },
  {
   "cell_type": "code",
   "execution_count": 26,
   "metadata": {},
   "outputs": [
    {
     "name": "stdout",
     "output_type": "stream",
     "text": [
      "Using 44 features for preparing feature matrix\n",
      "Using 44 features for preparing feature matrix\n"
     ]
    },
    {
     "data": {
      "text/plain": [
       "2.4205768086121588e+16"
      ]
     },
     "execution_count": 26,
     "metadata": {},
     "output_type": "execute_result"
    }
   ],
   "source": [
    "X_train_new = prepare_X_improved(train_df)\n",
    "X_val_new = prepare_X_improved(val_df)\n",
    "\n",
    "w0_new, w_new = train_linear_regression(X_train_new, y_train)\n",
    "y_pred_new = w0 + X_val_new.dot(w_new)\n",
    "\n",
    "rmse_new = calculate_rmse(y_val, y_pred_new)\n",
    "rmse_new"
   ]
  },
  {
   "cell_type": "code",
   "execution_count": 15,
   "metadata": {},
   "outputs": [],
   "source": [
    "def train_linear_regression_improved(X: np.ndarray, y: np.ndarray, r: float) -> tuple[np.float64, np.ndarray]:\n",
    "    # w = XTX_inv.XT.y\n",
    "\n",
    "    # Adding bias term to the matrix\n",
    "    ones = np.ones(X.shape[0])\n",
    "    X = np.column_stack([ones, X])\n",
    "\n",
    "    XT = X.T\n",
    "    XTX = XT.dot(X)\n",
    "    \n",
    "    # Adding the regularization parameter, r to the Gram matrix to remove scenarios of linear combination\n",
    "    Ir = np.eye(XTX.shape[0]) * r\n",
    "    XTX = XTX + Ir\n",
    "\n",
    "    XTX_inv = np.linalg.inv(XTX)\n",
    "\n",
    "    w_full = XTX_inv.dot(XT).dot(y)\n",
    "\n",
    "    return w_full[0], w_full[1:]"
   ]
  },
  {
   "cell_type": "code",
   "execution_count": 27,
   "metadata": {},
   "outputs": [
    {
     "name": "stdout",
     "output_type": "stream",
     "text": [
      "RMSE Score with r: 0 is 81.5389\n",
      "RMSE Score with r: 0.1 is 0.4793\n",
      "RMSE Score with r: 0.01 is 0.4794\n",
      "RMSE Score with r: 0.001 is 0.4795\n",
      "RMSE Score with r: 0.0001 is 0.4795\n",
      "RMSE Score with r: 1 is 0.4782\n",
      "RMSE Score with r: 10 is 0.4918\n"
     ]
    }
   ],
   "source": [
    "for r in [0, 0.1, 0.01, 0.001, 0.0001, 1, 10]:\n",
    "    w0_imp, w_imp = train_linear_regression_improved(X_train_new, y_train, r=r)\n",
    "    y_pred_imp = w0_imp + X_val_new.dot(w_imp)\n",
    "\n",
    "    rmse_score_reg = calculate_rmse(y_val, y_pred_imp)\n",
    "    print(f\"RMSE Score with r: {r} is {rmse_score_reg:.4f}\")"
   ]
  },
  {
   "cell_type": "code",
   "execution_count": 31,
   "metadata": {},
   "outputs": [
    {
     "name": "stdout",
     "output_type": "stream",
     "text": [
      "Using 44 features for preparing feature matrix\n",
      "Using 44 features for preparing feature matrix\n"
     ]
    },
    {
     "data": {
      "text/plain": [
       "0.456"
      ]
     },
     "execution_count": 31,
     "metadata": {},
     "output_type": "execute_result"
    }
   ],
   "source": [
    "final_r = 0.1\n",
    "\n",
    "full_train_df = pd.concat([train_df, val_df], ignore_index=True)\n",
    "\n",
    "X_train_full = prepare_X_improved(full_train_df)\n",
    "y_train_full = np.concatenate((y_train, y_val))\n",
    "\n",
    "X_test = prepare_X_improved(test_df)\n",
    "\n",
    "w0_comb, w_comb = train_linear_regression_improved(X_train_full, y_train_full, r=final_r)\n",
    "y_pred_comb = w0_comb + X_test.dot(w_comb)\n",
    "\n",
    "rmse_comb = calculate_rmse(y_test, y_pred_comb).round(3)\n",
    "rmse_comb"
   ]
  },
  {
   "cell_type": "markdown",
   "metadata": {},
   "source": [
    "## Using the model to predict the price of a car"
   ]
  },
  {
   "cell_type": "code",
   "execution_count": 47,
   "metadata": {},
   "outputs": [
    {
     "name": "stdout",
     "output_type": "stream",
     "text": [
      "Using 44 features for preparing feature matrix\n",
      "The predicted price of a sample car is 38005.36 while the actual price is 31035.0\n",
      "The difference between the actual and predicted price is: -6970.360000000001\n"
     ]
    }
   ],
   "source": [
    "car_info = test_df.iloc[20].to_dict()\n",
    "actual_price = np.expm1(y_test[20]).round(2)\n",
    "\n",
    "sample_df = pd.DataFrame([car_info])\n",
    "\n",
    "X_sample = prepare_X_improved(sample_df)\n",
    "y_small = w0_comb + X_sample.dot(w_comb)\n",
    "y_small = y_small[0]\n",
    "predicted_price = np.expm1(y_small).round(2)\n",
    "\n",
    "print(f\"The predicted price of a sample car is {predicted_price} while the actual price is {actual_price}\")\n",
    "print(f\"The difference between the actual and predicted price is: {actual_price-predicted_price}\")"
   ]
  }
 ],
 "metadata": {
  "kernelspec": {
   "display_name": "Python 3.10.6 ('mlzoomcamp-venv': venv)",
   "language": "python",
   "name": "python3"
  },
  "language_info": {
   "codemirror_mode": {
    "name": "ipython",
    "version": 3
   },
   "file_extension": ".py",
   "mimetype": "text/x-python",
   "name": "python",
   "nbconvert_exporter": "python",
   "pygments_lexer": "ipython3",
   "version": "3.10.6"
  },
  "orig_nbformat": 4,
  "vscode": {
   "interpreter": {
    "hash": "96d4cb7f9448db62fbec589a875523b5c5068a74b1649882ae4730bf4beccbc2"
   }
  }
 },
 "nbformat": 4,
 "nbformat_minor": 2
}
